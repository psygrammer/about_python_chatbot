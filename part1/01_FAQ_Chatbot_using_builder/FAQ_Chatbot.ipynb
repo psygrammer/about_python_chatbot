{
 "cells": [
  {
   "cell_type": "markdown",
   "metadata": {
    "deletable": true,
    "editable": true
   },
   "source": [
    "# MS API를 이용해 FAQ 챗봇을 만들어 보자!!\n",
    "\n",
    "* 어바웃 파이썬 : DIY 챗봇  \n",
    "* 김성근\n",
    "\n",
    "### 필요한 것들\n",
    "- 1) 챗봇 기본지식 : 엑셀파일로 질문 대답시트를 작성하여 Q&A메이커에 업로드\n",
    "- 2) 파이썬 기본 지식 : 자연어 처리를 조금 해야함\n",
    "- 3) 챗봇 프레임웍 : MS Q&A메이커를 사용해서 질문에 대한 대답을 분류"
   ]
  },
  {
   "cell_type": "markdown",
   "metadata": {
    "deletable": true,
    "editable": true
   },
   "source": [
    "### 1) 챗봇 기본지식 만들기 \n",
    "- 자기소개 FAQ챗봇 만들기\n",
    "- 엑셀 파일로 자신의 나이, 직업, 취미 등에 대한 문답을 작성하기 "
   ]
  },
  {
   "cell_type": "code",
   "execution_count": 1,
   "metadata": {
    "collapsed": true,
    "deletable": true,
    "editable": true
   },
   "outputs": [],
   "source": [
    "import pandas as pd"
   ]
  },
  {
   "cell_type": "code",
   "execution_count": 2,
   "metadata": {
    "collapsed": false,
    "deletable": true,
    "editable": true,
    "scrolled": false
   },
   "outputs": [
    {
     "data": {
      "text/html": [
       "<div>\n",
       "<table border=\"1\" class=\"dataframe\">\n",
       "  <thead>\n",
       "    <tr style=\"text-align: right;\">\n",
       "      <th></th>\n",
       "      <th>분류</th>\n",
       "      <th>질문</th>\n",
       "      <th>대답</th>\n",
       "    </tr>\n",
       "  </thead>\n",
       "  <tbody>\n",
       "    <tr>\n",
       "      <th>0</th>\n",
       "      <td>1</td>\n",
       "      <td>이름이 뭐에요?</td>\n",
       "      <td>니노 막시무스 카이저소제 소냐도르 앤 스파르타 김성근</td>\n",
       "    </tr>\n",
       "    <tr>\n",
       "      <th>1</th>\n",
       "      <td>1</td>\n",
       "      <td>성함이 어떻게 되시죠</td>\n",
       "      <td>니노 막시무스 카이저소제 소냐도르 앤 스파르타 김성근</td>\n",
       "    </tr>\n",
       "    <tr>\n",
       "      <th>2</th>\n",
       "      <td>1</td>\n",
       "      <td>이름이 궁금합니다.</td>\n",
       "      <td>니노 막시무스 카이저소제 소냐도르 앤 스파르타 김성근</td>\n",
       "    </tr>\n",
       "    <tr>\n",
       "      <th>3</th>\n",
       "      <td>1</td>\n",
       "      <td>이름 알려주세요</td>\n",
       "      <td>니노 막시무스 카이저소제 소냐도르 앤 스파르타 김성근</td>\n",
       "    </tr>\n",
       "    <tr>\n",
       "      <th>4</th>\n",
       "      <td>1</td>\n",
       "      <td>이름이 뭐니?</td>\n",
       "      <td>니노 막시무스 카이저소제 소냐도르 앤 스파르타 김성근</td>\n",
       "    </tr>\n",
       "  </tbody>\n",
       "</table>\n",
       "</div>"
      ],
      "text/plain": [
       "   분류           질문                             대답\n",
       "0   1     이름이 뭐에요?  니노 막시무스 카이저소제 소냐도르 앤 스파르타 김성근\n",
       "1   1  성함이 어떻게 되시죠  니노 막시무스 카이저소제 소냐도르 앤 스파르타 김성근\n",
       "2   1   이름이 궁금합니다.  니노 막시무스 카이저소제 소냐도르 앤 스파르타 김성근\n",
       "3   1     이름 알려주세요  니노 막시무스 카이저소제 소냐도르 앤 스파르타 김성근\n",
       "4   1      이름이 뭐니?  니노 막시무스 카이저소제 소냐도르 앤 스파르타 김성근"
      ]
     },
     "execution_count": 2,
     "metadata": {},
     "output_type": "execute_result"
    }
   ],
   "source": [
    "q_a = pd.read_csv(\"knowledge_2.csv\")\n",
    "q_a.head()"
   ]
  },
  {
   "cell_type": "markdown",
   "metadata": {
    "deletable": true,
    "editable": true
   },
   "source": [
    "### 2) MS Q&A메이커 로그인\n",
    "- http://qnamaker.ai 접속하여 로그인\n",
    "- Create new service -> 서비스명 입력하고 -> 엑셀파일 업로드 -> Create\n",
    "- 업로드할 파일은 질문과 답변만 있는 파일이어야함\n",
    "- 업로드 후 퍼블리시 하면 다음과 같은 api정보를 얻을수 있음"
   ]
  },
  {
   "cell_type": "raw",
   "metadata": {
    "deletable": true,
    "editable": true
   },
   "source": [
    "POST /knowledgebases/90c16509-508f-4eef-afd9-1d639d3671b3/generateAnswer\n",
    "Host: https://westus.api.cognitive.microsoft.com/qnamaker/v2.0\n",
    "Ocp-Apim-Subscription-Key: 901f5c6d20b84eab800341bb0f04b26f\n",
    "Content-Type: application/json\n",
    "{\"question\":\"hi\"}"
   ]
  },
  {
   "cell_type": "markdown",
   "metadata": {
    "deletable": true,
    "editable": true
   },
   "source": [
    "#### API로 질문을 보내서 답변을 받아오자!\n",
    "- 아래 URL 객체 사이에 90c16509-508f-4eef-afd9-1d639d3671b3 를 끼워넣고\n",
    "- Ocp-Apim-Subscription-Key: 901f5c6d20b84eab800341bb0f04b26f"
   ]
  },
  {
   "cell_type": "code",
   "execution_count": 6,
   "metadata": {
    "collapsed": true
   },
   "outputs": [],
   "source": [
    "import requests"
   ]
  },
  {
   "cell_type": "code",
   "execution_count": 7,
   "metadata": {
    "collapsed": true,
    "deletable": true,
    "editable": true
   },
   "outputs": [],
   "source": [
    "key_1 ='90c16509-508f-4eef-afd9-1d639d3671b3'\n",
    "key_2 = '901f5c6d20b84eab800341bb0f04b26f'\n",
    "\n",
    "url_1 = 'https://westus.api.cognitive.microsoft.com/qnamaker/v2.0/knowledgebases/'\n",
    "url_2 = '/generateAnswer'\n",
    "url = url_1 + key_1 + url_2\n",
    "\n",
    "headers = {'Content-Type':'application/json; charset=utf-8', \n",
    "           'Ocp-Apim-Subscription-Key' : key_2}"
   ]
  },
  {
   "cell_type": "code",
   "execution_count": 8,
   "metadata": {
    "collapsed": true,
    "deletable": true,
    "editable": true
   },
   "outputs": [],
   "source": [
    "def answer(msg):\n",
    "    ans = requests.post(url, headers=headers,  json={'question': msg})\n",
    "    return(ans.json()['answers'][0]['answer'])"
   ]
  },
  {
   "cell_type": "code",
   "execution_count": 9,
   "metadata": {
    "collapsed": false,
    "deletable": true,
    "editable": true
   },
   "outputs": [
    {
     "data": {
      "text/plain": [
       "'니노 막시무스 카이저소제 소냐도르 앤 스파르타 김성근'"
      ]
     },
     "execution_count": 9,
     "metadata": {},
     "output_type": "execute_result"
    }
   ],
   "source": [
    "answer(\"이름이 뭐에요\")"
   ]
  },
  {
   "cell_type": "markdown",
   "metadata": {
    "deletable": true,
    "editable": true
   },
   "source": [
    "### 3) 성능을 높여보자!\n",
    "- 질문이 들어왔을때 띄어쓰기 해서 QNA MAKER로 질문을 보내준다면?\n",
    "- 챗봇의 기반지식도 질문부분을 형태소 분석해서 넣어놓고!\n",
    "- 띄어쓰기 된 질문을 형태소 분석해서 QNA MAKER로 질문을 보내준다면?\n",
    "#### 더 잘 대답하지 않을까?!!!"
   ]
  },
  {
   "cell_type": "markdown",
   "metadata": {
    "deletable": true,
    "editable": true
   },
   "source": [
    "#### 3.1) 띄어쓰기 API를 사용해보자!\n",
    "- 아주 감사하게도 검색해보면 있다!! 감사합니다!!\n",
    "- https://github.com/haven-jeon/KoWordSpacing"
   ]
  },
  {
   "cell_type": "code",
   "execution_count": 10,
   "metadata": {
    "collapsed": true,
    "deletable": true,
    "editable": true
   },
   "outputs": [],
   "source": [
    "def spacing(sent):\n",
    "    spacing = requests.put('http://35.201.156.140:8080/spacing', \n",
    "                           data={'sent':sent}).json()\n",
    "    return(spacing)"
   ]
  },
  {
   "cell_type": "code",
   "execution_count": 11,
   "metadata": {
    "collapsed": false,
    "deletable": true,
    "editable": true
   },
   "outputs": [
    {
     "data": {
      "text/plain": [
       "'밥은 먹고 다니냐 '"
      ]
     },
     "execution_count": 11,
     "metadata": {},
     "output_type": "execute_result"
    }
   ],
   "source": [
    "spacing(\"밥은먹고 다니냐\")['sent']"
   ]
  },
  {
   "cell_type": "markdown",
   "metadata": {
    "deletable": true,
    "editable": true
   },
   "source": [
    "#### 3.2) 조사제거하여 질문형태를 단순화하자!"
   ]
  },
  {
   "cell_type": "code",
   "execution_count": 12,
   "metadata": {
    "collapsed": true,
    "deletable": true,
    "editable": true
   },
   "outputs": [],
   "source": [
    "from konlpy.tag import Twitter\n",
    "twitter = Twitter()\n",
    "\n",
    "def nlp(question):\n",
    "    string_analyzed = twitter.pos(question, norm=True, stem=True)\n",
    "    analyzed = []\n",
    "    for words in string_analyzed:\n",
    "        if words[1] != 'Josa':\n",
    "            analyzed.append(words[0])\n",
    "    message = ' '.join(analyzed)\n",
    "    return str(message)"
   ]
  },
  {
   "cell_type": "code",
   "execution_count": 13,
   "metadata": {
    "collapsed": false,
    "deletable": true,
    "editable": true
   },
   "outputs": [
    {
     "data": {
      "text/plain": [
       "'밥 먹다 다니다'"
      ]
     },
     "execution_count": 13,
     "metadata": {},
     "output_type": "execute_result"
    }
   ],
   "source": [
    "nlp(\"밥은 먹고 다니냐\")"
   ]
  },
  {
   "cell_type": "markdown",
   "metadata": {
    "deletable": true,
    "editable": true
   },
   "source": [
    "- 띄어쓰기 후 형태소분석하여 조사없는 질문 생성"
   ]
  },
  {
   "cell_type": "code",
   "execution_count": 14,
   "metadata": {
    "collapsed": true,
    "deletable": true,
    "editable": true
   },
   "outputs": [],
   "source": [
    "def make_question(msg):\n",
    "    spacing_msg = spacing(msg)['sent']\n",
    "    nlp_msg = nlp(spacing_msg)\n",
    "    return(nlp_msg)"
   ]
  },
  {
   "cell_type": "code",
   "execution_count": 15,
   "metadata": {
    "collapsed": false,
    "deletable": true,
    "editable": true
   },
   "outputs": [
    {
     "data": {
      "text/plain": [
       "'밥 먹다 다니다'"
      ]
     },
     "execution_count": 15,
     "metadata": {},
     "output_type": "execute_result"
    }
   ],
   "source": [
    "make_question(\"밥은먹고다니냐\")"
   ]
  },
  {
   "cell_type": "markdown",
   "metadata": {
    "deletable": true,
    "editable": true
   },
   "source": [
    "#### 3.3) 기존 챗봇 기반지식도 형태소 분석해서 넣자\n",
    "- 질문만 형태소분석하고 답변은 그대로 놔두면 됨"
   ]
  },
  {
   "cell_type": "code",
   "execution_count": 16,
   "metadata": {
    "collapsed": false,
    "deletable": true,
    "editable": true
   },
   "outputs": [
    {
     "data": {
      "text/plain": [
       "'이름이 뭐에요?'"
      ]
     },
     "execution_count": 16,
     "metadata": {},
     "output_type": "execute_result"
    }
   ],
   "source": [
    "q_a['질문'][0]"
   ]
  },
  {
   "cell_type": "code",
   "execution_count": 17,
   "metadata": {
    "collapsed": true,
    "deletable": true,
    "editable": true
   },
   "outputs": [],
   "source": [
    "nlp_question = []\n",
    "\n",
    "for i in q_a['질문']:\n",
    "    nlp_question.append(nlp(i))"
   ]
  },
  {
   "cell_type": "code",
   "execution_count": 18,
   "metadata": {
    "collapsed": true,
    "deletable": true,
    "editable": true
   },
   "outputs": [],
   "source": [
    "q_a['질문_2'] = nlp_question"
   ]
  },
  {
   "cell_type": "code",
   "execution_count": 19,
   "metadata": {
    "collapsed": false,
    "deletable": true,
    "editable": true
   },
   "outputs": [
    {
     "data": {
      "text/html": [
       "<div>\n",
       "<table border=\"1\" class=\"dataframe\">\n",
       "  <thead>\n",
       "    <tr style=\"text-align: right;\">\n",
       "      <th></th>\n",
       "      <th>분류</th>\n",
       "      <th>질문</th>\n",
       "      <th>대답</th>\n",
       "      <th>질문_2</th>\n",
       "    </tr>\n",
       "  </thead>\n",
       "  <tbody>\n",
       "    <tr>\n",
       "      <th>0</th>\n",
       "      <td>1</td>\n",
       "      <td>이름이 뭐에요?</td>\n",
       "      <td>니노 막시무스 카이저소제 소냐도르 앤 스파르타 김성근</td>\n",
       "      <td>이름 뭐 ?</td>\n",
       "    </tr>\n",
       "    <tr>\n",
       "      <th>1</th>\n",
       "      <td>1</td>\n",
       "      <td>성함이 어떻게 되시죠</td>\n",
       "      <td>니노 막시무스 카이저소제 소냐도르 앤 스파르타 김성근</td>\n",
       "      <td>성함 어떻다 되다</td>\n",
       "    </tr>\n",
       "    <tr>\n",
       "      <th>2</th>\n",
       "      <td>1</td>\n",
       "      <td>이름이 궁금합니다.</td>\n",
       "      <td>니노 막시무스 카이저소제 소냐도르 앤 스파르타 김성근</td>\n",
       "      <td>이름 궁금하다 .</td>\n",
       "    </tr>\n",
       "    <tr>\n",
       "      <th>3</th>\n",
       "      <td>1</td>\n",
       "      <td>이름 알려주세요</td>\n",
       "      <td>니노 막시무스 카이저소제 소냐도르 앤 스파르타 김성근</td>\n",
       "      <td>이름 알다</td>\n",
       "    </tr>\n",
       "    <tr>\n",
       "      <th>4</th>\n",
       "      <td>1</td>\n",
       "      <td>이름이 뭐니?</td>\n",
       "      <td>니노 막시무스 카이저소제 소냐도르 앤 스파르타 김성근</td>\n",
       "      <td>이름 뭐 ?</td>\n",
       "    </tr>\n",
       "  </tbody>\n",
       "</table>\n",
       "</div>"
      ],
      "text/plain": [
       "   분류           질문                             대답       질문_2\n",
       "0   1     이름이 뭐에요?  니노 막시무스 카이저소제 소냐도르 앤 스파르타 김성근     이름 뭐 ?\n",
       "1   1  성함이 어떻게 되시죠  니노 막시무스 카이저소제 소냐도르 앤 스파르타 김성근  성함 어떻다 되다\n",
       "2   1   이름이 궁금합니다.  니노 막시무스 카이저소제 소냐도르 앤 스파르타 김성근  이름 궁금하다 .\n",
       "3   1     이름 알려주세요  니노 막시무스 카이저소제 소냐도르 앤 스파르타 김성근      이름 알다\n",
       "4   1      이름이 뭐니?  니노 막시무스 카이저소제 소냐도르 앤 스파르타 김성근     이름 뭐 ?"
      ]
     },
     "execution_count": 19,
     "metadata": {},
     "output_type": "execute_result"
    }
   ],
   "source": [
    "q_a.head()"
   ]
  },
  {
   "cell_type": "code",
   "execution_count": 20,
   "metadata": {
    "collapsed": true,
    "deletable": true,
    "editable": true
   },
   "outputs": [],
   "source": [
    "q_a.to_csv('q_a_know.csv')"
   ]
  },
  {
   "cell_type": "markdown",
   "metadata": {
    "deletable": true,
    "editable": true
   },
   "source": [
    "### 4) 최종정리\n",
    "- 그냥 바로 Q&A메이커에 보내면"
   ]
  },
  {
   "cell_type": "code",
   "execution_count": 21,
   "metadata": {
    "collapsed": false,
    "deletable": true,
    "editable": true
   },
   "outputs": [
    {
     "name": "stdout",
     "output_type": "stream",
     "text": [
      "니노 막시무스 카이저소제 소냐도르 앤 스파르타 김성근\n",
      "피도 눈물도 없는 광기의 매드 사이언티스트?\n",
      "No good match found in the KB\n",
      "경기도 수원이야...너 혹시 수원에 산다면...너 내 동료가 되라!!\n",
      "내 취미는 Rock and Roll~!! Love and Peace!! 난 기타를 좋아해!! 나랑 같이 기타를 치지 않을래?\n"
     ]
    }
   ],
   "source": [
    "qs = ['이름이뭐니', '무슨일해?', '몇살이냐', '어디살아요', '취미가뭐에요']\n",
    "for i in qs :\n",
    "    print(answer(i))"
   ]
  },
  {
   "cell_type": "markdown",
   "metadata": {
    "deletable": true,
    "editable": true
   },
   "source": [
    "- 띄어쓰기 및 형태소 분석해서 Q&A 메이커에 보내면 "
   ]
  },
  {
   "cell_type": "code",
   "execution_count": 22,
   "metadata": {
    "collapsed": true,
    "deletable": true,
    "editable": true
   },
   "outputs": [],
   "source": [
    "def get_ans(question) :\n",
    "    nlp_question = make_question(question) # 띄어쓰기 및 형태소 분석\n",
    "    return(answer(nlp_question))           # Q&A메이커 API에 전달"
   ]
  },
  {
   "cell_type": "code",
   "execution_count": 23,
   "metadata": {
    "collapsed": false,
    "deletable": true,
    "editable": true,
    "scrolled": true
   },
   "outputs": [
    {
     "name": "stdout",
     "output_type": "stream",
     "text": [
      "니노 막시무스 카이저소제 소냐도르 앤 스파르타 김성근\n",
      "피도 눈물도 없는 광기의 매드 사이언티스트?\n",
      "나이는 중요하지 않아! 중요한건 마음가짐이지! 만 19세는 넘었다는것만 알려주지...\n",
      "경기도 수원이야...너 혹시 수원에 산다면...너 내 동료가 되라!!\n",
      "내 취미는 Rock and Roll~!! Love and Peace!! 난 기타를 좋아해!! 나랑 같이 기타를 치지 않을래?\n"
     ]
    }
   ],
   "source": [
    "for i in qs :\n",
    "    print(get_ans(i))"
   ]
  },
  {
   "cell_type": "markdown",
   "metadata": {
    "deletable": true,
    "editable": true
   },
   "source": [
    "# 사이킷런 라이브러리로 직접 만들어보자!"
   ]
  },
  {
   "cell_type": "code",
   "execution_count": 24,
   "metadata": {
    "collapsed": false,
    "deletable": true,
    "editable": true
   },
   "outputs": [
    {
     "data": {
      "text/html": [
       "<div>\n",
       "<table border=\"1\" class=\"dataframe\">\n",
       "  <thead>\n",
       "    <tr style=\"text-align: right;\">\n",
       "      <th></th>\n",
       "      <th>분류</th>\n",
       "      <th>질문</th>\n",
       "      <th>대답</th>\n",
       "    </tr>\n",
       "  </thead>\n",
       "  <tbody>\n",
       "    <tr>\n",
       "      <th>0</th>\n",
       "      <td>1</td>\n",
       "      <td>이름이 뭐에요?</td>\n",
       "      <td>니노 막시무스 카이저소제 소냐도르 앤 스파르타 김성근</td>\n",
       "    </tr>\n",
       "    <tr>\n",
       "      <th>1</th>\n",
       "      <td>1</td>\n",
       "      <td>성함이 어떻게 되시죠</td>\n",
       "      <td>니노 막시무스 카이저소제 소냐도르 앤 스파르타 김성근</td>\n",
       "    </tr>\n",
       "    <tr>\n",
       "      <th>2</th>\n",
       "      <td>1</td>\n",
       "      <td>이름이 궁금합니다.</td>\n",
       "      <td>니노 막시무스 카이저소제 소냐도르 앤 스파르타 김성근</td>\n",
       "    </tr>\n",
       "    <tr>\n",
       "      <th>3</th>\n",
       "      <td>1</td>\n",
       "      <td>이름 알려주세요</td>\n",
       "      <td>니노 막시무스 카이저소제 소냐도르 앤 스파르타 김성근</td>\n",
       "    </tr>\n",
       "    <tr>\n",
       "      <th>4</th>\n",
       "      <td>1</td>\n",
       "      <td>이름이 뭐니?</td>\n",
       "      <td>니노 막시무스 카이저소제 소냐도르 앤 스파르타 김성근</td>\n",
       "    </tr>\n",
       "  </tbody>\n",
       "</table>\n",
       "</div>"
      ],
      "text/plain": [
       "   분류           질문                             대답\n",
       "0   1     이름이 뭐에요?  니노 막시무스 카이저소제 소냐도르 앤 스파르타 김성근\n",
       "1   1  성함이 어떻게 되시죠  니노 막시무스 카이저소제 소냐도르 앤 스파르타 김성근\n",
       "2   1   이름이 궁금합니다.  니노 막시무스 카이저소제 소냐도르 앤 스파르타 김성근\n",
       "3   1     이름 알려주세요  니노 막시무스 카이저소제 소냐도르 앤 스파르타 김성근\n",
       "4   1      이름이 뭐니?  니노 막시무스 카이저소제 소냐도르 앤 스파르타 김성근"
      ]
     },
     "execution_count": 24,
     "metadata": {},
     "output_type": "execute_result"
    }
   ],
   "source": [
    "data = pd.read_csv(\"knowledge_2.csv\")\n",
    "data.head()"
   ]
  },
  {
   "cell_type": "markdown",
   "metadata": {
    "deletable": true,
    "editable": true
   },
   "source": [
    "- 질문을 데이터로 분류를 라벨로 사용해서 학습"
   ]
  },
  {
   "cell_type": "code",
   "execution_count": 25,
   "metadata": {
    "collapsed": true,
    "deletable": true,
    "editable": true
   },
   "outputs": [],
   "source": [
    "x_data = data['질문']\n",
    "y_data = pd.Categorical(data['분류'])"
   ]
  },
  {
   "cell_type": "code",
   "execution_count": 26,
   "metadata": {
    "collapsed": false,
    "deletable": true,
    "editable": true
   },
   "outputs": [
    {
     "data": {
      "text/plain": [
       "0        이름이 뭐에요?\n",
       "1     성함이 어떻게 되시죠\n",
       "2      이름이 궁금합니다.\n",
       "3        이름 알려주세요\n",
       "4         이름이 뭐니?\n",
       "5    나이가 어떻게 되시죠?\n",
       "6          몇 살이니?\n",
       "7       나이가 궁금하니다\n",
       "8        너 몇살 이야?\n",
       "9       올해 몇살이시죠?\n",
       "Name: 질문, dtype: object"
      ]
     },
     "execution_count": 26,
     "metadata": {},
     "output_type": "execute_result"
    }
   ],
   "source": [
    "x_data[0:10]"
   ]
  },
  {
   "cell_type": "code",
   "execution_count": 27,
   "metadata": {
    "collapsed": false,
    "deletable": true,
    "editable": true
   },
   "outputs": [
    {
     "data": {
      "text/plain": [
       "[1, 1, 1, 1, 1, 2, 2, 2, 2, 2]\n",
       "Categories (5, int64): [1, 2, 3, 4, 5]"
      ]
     },
     "execution_count": 27,
     "metadata": {},
     "output_type": "execute_result"
    }
   ],
   "source": [
    "y_data[0:10]"
   ]
  },
  {
   "cell_type": "markdown",
   "metadata": {
    "deletable": true,
    "editable": true
   },
   "source": [
    "- CountVectorizer 함수로 TDM생성하고 SVM알고리즘으로 분류"
   ]
  },
  {
   "cell_type": "code",
   "execution_count": 28,
   "metadata": {
    "collapsed": true,
    "deletable": true,
    "editable": true
   },
   "outputs": [],
   "source": [
    "from sklearn.feature_extraction.text import CountVectorizer\n",
    "from sklearn.feature_extraction.text import TfidfTransformer\n",
    "from sklearn.linear_model import SGDClassifier\n",
    "from sklearn.pipeline import Pipeline\n",
    "from konlpy.tag import Twitter\n",
    "\n",
    "def get_noun(text):\n",
    "    tokenizer = Twitter()\n",
    "    nouns = tokenizer.nouns(text)\n",
    "    return [n for n in nouns]"
   ]
  },
  {
   "cell_type": "code",
   "execution_count": 29,
   "metadata": {
    "collapsed": false,
    "deletable": true,
    "editable": true
   },
   "outputs": [
    {
     "data": {
      "text/plain": [
       "<28x27 sparse matrix of type '<class 'numpy.int64'>'\n",
       "\twith 51 stored elements in Compressed Sparse Row format>"
      ]
     },
     "execution_count": 29,
     "metadata": {},
     "output_type": "execute_result"
    }
   ],
   "source": [
    "cv = CountVectorizer(tokenizer=get_noun)\n",
    "cv.fit_transform(x_data)"
   ]
  },
  {
   "cell_type": "code",
   "execution_count": 30,
   "metadata": {
    "collapsed": true,
    "deletable": true,
    "editable": true
   },
   "outputs": [],
   "source": [
    "text_clf_svm = Pipeline([('vect', CountVectorizer(tokenizer=get_noun)),\n",
    "                         ('tfidf', TfidfTransformer()),\n",
    "                         ('clf-svm', SGDClassifier(loss='hinge', penalty='l2', alpha=1e-3, n_iter=5, random_state=42))])"
   ]
  },
  {
   "cell_type": "code",
   "execution_count": 31,
   "metadata": {
    "collapsed": false,
    "deletable": true,
    "editable": true
   },
   "outputs": [
    {
     "name": "stderr",
     "output_type": "stream",
     "text": [
      "/opt/conda/lib/python3.5/site-packages/sklearn/linear_model/stochastic_gradient.py:117: DeprecationWarning: n_iter parameter is deprecated in 0.19 and will be removed in 0.21. Use max_iter and tol instead.\n",
      "  DeprecationWarning)\n"
     ]
    },
    {
     "data": {
      "text/plain": [
       "Pipeline(memory=None,\n",
       "     steps=[('vect', CountVectorizer(analyzer='word', binary=False, decode_error='strict',\n",
       "        dtype=<class 'numpy.int64'>, encoding='utf-8', input='content',\n",
       "        lowercase=True, max_df=1.0, max_features=None, min_df=1,\n",
       "        ngram_range=(1, 1), preprocessor=None, stop_words=None,\n",
       "        strip...ty='l2', power_t=0.5, random_state=42, shuffle=True,\n",
       "       tol=None, verbose=0, warm_start=False))])"
      ]
     },
     "execution_count": 31,
     "metadata": {},
     "output_type": "execute_result"
    }
   ],
   "source": [
    "text_clf_svm.fit(x_data, y_data)"
   ]
  },
  {
   "cell_type": "code",
   "execution_count": 32,
   "metadata": {
    "collapsed": false,
    "deletable": true,
    "editable": true
   },
   "outputs": [
    {
     "data": {
      "text/plain": [
       "array([4])"
      ]
     },
     "execution_count": 32,
     "metadata": {},
     "output_type": "execute_result"
    }
   ],
   "source": [
    "text_clf_svm.predict(['취미는 뭐에요'])"
   ]
  },
  {
   "cell_type": "markdown",
   "metadata": {
    "deletable": true,
    "editable": true
   },
   "source": [
    "- 5개 분류에 따른 답변 제시를 위한 함수 생성"
   ]
  },
  {
   "cell_type": "code",
   "execution_count": 33,
   "metadata": {
    "collapsed": true,
    "deletable": true,
    "editable": true
   },
   "outputs": [],
   "source": [
    "answer = [\"니노 막시무스 카이저소제 소냐도르 앤 스파르타 김성근\", \n",
    "          \"나이는 중요하지 않아! 중요한건 마음가짐이지! 만 19세는 넘었다는것만 알려주지\", \n",
    "          \"피도 눈물도 없는 광기의 매드 사이언티스트\", \n",
    "          \"내 취미는 Rock & Roll~!! Love & Peace!! 난 기타를 좋아해!! 나랑 같이 기타를 치지 않을래?\", \n",
    "          \"경기도 수원이야 너 혹시 수원에 산다면 너 내 동료가 되라!\"]"
   ]
  },
  {
   "cell_type": "code",
   "execution_count": 34,
   "metadata": {
    "collapsed": true,
    "deletable": true,
    "editable": true
   },
   "outputs": [],
   "source": [
    "def svm_asn(question):\n",
    "    idx = int(text_clf_svm.predict([question]))\n",
    "    return(answer[idx-1])    "
   ]
  },
  {
   "cell_type": "code",
   "execution_count": 35,
   "metadata": {
    "collapsed": false,
    "deletable": true,
    "editable": true
   },
   "outputs": [
    {
     "name": "stdout",
     "output_type": "stream",
     "text": [
      "내 취미는 Rock & Roll~!! Love & Peace!! 난 기타를 좋아해!! 나랑 같이 기타를 치지 않을래?\n",
      "경기도 수원이야 너 혹시 수원에 산다면 너 내 동료가 되라!\n",
      "나이는 중요하지 않아! 중요한건 마음가짐이지! 만 19세는 넘었다는것만 알려주지\n",
      "피도 눈물도 없는 광기의 매드 사이언티스트\n"
     ]
    }
   ],
   "source": [
    "print(svm_asn(\"취미는 뭐에요\"))\n",
    "print(svm_asn(\"어디 살아요\"))\n",
    "print(svm_asn(\"연세가 어떻게 되시죠\"))\n",
    "print(svm_asn(\"직업이 어떻게 되시나요\"))"
   ]
  }
 ],
 "metadata": {
  "kernelspec": {
   "display_name": "Python 3",
   "language": "python",
   "name": "python3"
  },
  "language_info": {
   "codemirror_mode": {
    "name": "ipython",
    "version": 3
   },
   "file_extension": ".py",
   "mimetype": "text/x-python",
   "name": "python",
   "nbconvert_exporter": "python",
   "pygments_lexer": "ipython3",
   "version": "3.5.2"
  }
 },
 "nbformat": 4,
 "nbformat_minor": 2
}
